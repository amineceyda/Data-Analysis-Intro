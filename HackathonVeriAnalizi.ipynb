{
  "nbformat": 4,
  "nbformat_minor": 0,
  "metadata": {
    "colab": {
      "provenance": [],
      "authorship_tag": "ABX9TyMJ90PwWWN8tHfc8quvnnCT",
      "include_colab_link": true
    },
    "kernelspec": {
      "name": "python3",
      "display_name": "Python 3"
    },
    "language_info": {
      "name": "python"
    }
  },
  "cells": [
    {
      "cell_type": "markdown",
      "metadata": {
        "id": "view-in-github",
        "colab_type": "text"
      },
      "source": [
        "<a href=\"https://colab.research.google.com/github/amineceyda/Data-Analysis-Intro/blob/main/HackathonVeriAnalizi.ipynb\" target=\"_parent\"><img src=\"https://colab.research.google.com/assets/colab-badge.svg\" alt=\"Open In Colab\"/></a>"
      ]
    },
    {
      "cell_type": "markdown",
      "source": [
        "# Veri seti temizleme"
      ],
      "metadata": {
        "id": "CEuHv8LjjP09"
      }
    },
    {
      "cell_type": "code",
      "execution_count": 47,
      "metadata": {
        "id": "3Qdc4THhPEb8"
      },
      "outputs": [],
      "source": [
        "import pandas as pd"
      ]
    },
    {
      "cell_type": "code",
      "source": [
        "data = pd.read_csv('hackathon_data.csv')\n",
        "data.head()"
      ],
      "metadata": {
        "id": "E4amrHvGPTAU"
      },
      "execution_count": null,
      "outputs": []
    },
    {
      "cell_type": "code",
      "source": [
        "data.tail()"
      ],
      "metadata": {
        "id": "7sNiRLryP4Ts"
      },
      "execution_count": null,
      "outputs": []
    },
    {
      "cell_type": "code",
      "source": [
        "data.isna().any() # Veri setindeki eksik verileri tespit edip uygun değerler ile doldurmak için"
      ],
      "metadata": {
        "id": "wZg9QKmxQVqI"
      },
      "execution_count": null,
      "outputs": []
    },
    {
      "cell_type": "code",
      "source": [
        "data['IslemTutar'].fillna(0.00, inplace=True)\n",
        "date_columns = ['IslemTarih', 'UyeAktivasyonTarih', 'SurumTarih']\n",
        "for col in date_columns:\n",
        "    data[col] = pd.to_datetime(data[col], errors='coerce')\n",
        "   # data[col].fillna('2015-01-01 00:00:00', inplace=True) #bilinmeyen tarihleri böyle bir tarihle doldursak bu satrı silersek NaT şeklinde de kalabilir emin olamadım\n",
        "\n",
        "data['Tercih'].fillna('Bilinmiyor', inplace=True)\n",
        "data['Versiyon'].fillna('Bilinmiyor', inplace=True)"
      ],
      "metadata": {
        "id": "muYs5kRTRZA0"
      },
      "execution_count": 51,
      "outputs": []
    },
    {
      "cell_type": "code",
      "source": [
        "data.isna().sum()"
      ],
      "metadata": {
        "id": "4a_EsJxJW-sO"
      },
      "execution_count": null,
      "outputs": []
    },
    {
      "cell_type": "code",
      "source": [
        "data.duplicated()"
      ],
      "metadata": {
        "id": "5iaghkQ5X_iz"
      },
      "execution_count": null,
      "outputs": []
    },
    {
      "cell_type": "code",
      "source": [
        "data['Tercih'] = data['Tercih'].astype(str)\n",
        "data['Versiyon'] = data['Versiyon'].astype(str)\n",
        "data['IslemTutar'] = pd.to_numeric(data['IslemTutar'], errors='coerce')\n",
        "\n",
        "#Marka aynıysada yanlış girildiyse diye\n",
        "data['Marka'] = data['Marka'].str.strip()\n",
        "data['Marka'] = data['Marka'].str.lower()\n",
        "\n",
        "data['UyeAdres'] = data['UyeAdres'].str.replace(r'[^a-zA-Z0-9\\s]', '')"
      ],
      "metadata": {
        "id": "av2j6WMhbKtD"
      },
      "execution_count": null,
      "outputs": []
    },
    {
      "cell_type": "code",
      "source": [
        "# IQR yöntemi ile aykırı değerleri tanımlama ve eleme\n",
        "Q1 = data['IslemTutar'].quantile(0.25)\n",
        "Q3 = data['IslemTutar'].quantile(0.75)\n",
        "IQR = Q3 - Q1\n",
        "lower_bound = Q1 - 1.5 * IQR\n",
        "upper_bound = Q3 + 1.5 * IQR\n",
        "data = data[(data['IslemTutar'] >= lower_bound) & (data['IslemTutar'] <= upper_bound)]"
      ],
      "metadata": {
        "id": "f100KKYRdTHH"
      },
      "execution_count": 56,
      "outputs": []
    },
    {
      "cell_type": "code",
      "source": [
        "data.to_csv('cleaned_data.csv', index=False)"
      ],
      "metadata": {
        "id": "uKiWb4_bfvi5"
      },
      "execution_count": 57,
      "outputs": []
    },
    {
      "cell_type": "markdown",
      "source": [
        "# Örnek Analizler"
      ],
      "metadata": {
        "id": "3xwy_hr8omBZ"
      }
    },
    {
      "cell_type": "code",
      "source": [
        "from datetime import datetime, timedelta"
      ],
      "metadata": {
        "id": "ZrUtm_Flopvf"
      },
      "execution_count": 65,
      "outputs": []
    },
    {
      "cell_type": "code",
      "source": [
        "data = pd.read_csv('cleaned_data.csv')"
      ],
      "metadata": {
        "id": "hMfIcMg9pOWl"
      },
      "execution_count": null,
      "outputs": []
    },
    {
      "cell_type": "code",
      "source": [
        "# Veri setinin temel istatistiklerini görüntüleme\n",
        "basic_stats = data.describe()\n",
        "print(basic_stats)\n",
        "\n",
        "# Belirli bir sütunun ortalama değerini almak\n",
        "mean_value = data['IslemTutar'].mean()\n",
        "print(\"Ortalama Değer:\", mean_value)"
      ],
      "metadata": {
        "colab": {
          "base_uri": "https://localhost:8080/"
        },
        "id": "uc08bhfKzA-V",
        "outputId": "7a873956-d1b0-478c-fb59-e27bed883c21"
      },
      "execution_count": 102,
      "outputs": [
        {
          "output_type": "stream",
          "name": "stdout",
          "text": [
            "                 id       IslemID     IslemTutar      IslemSaat\n",
            "count  8.910730e+05  8.910730e+05  891073.000000  891073.000000\n",
            "mean   3.010237e+08  4.475794e+08      57.795797      15.407199\n",
            "std    8.342958e+03  5.178086e+07      46.365523       4.265807\n",
            "min    3.010025e+08  4.010031e+08       1.010000       0.000000\n",
            "25%    3.010245e+08  4.063467e+08      23.000000      13.000000\n",
            "50%    3.010256e+08  4.258246e+08      43.000000      16.000000\n",
            "75%    3.010299e+08  4.735799e+08      80.000000      18.000000\n",
            "max    3.010330e+08  6.146196e+08     215.000000      23.000000\n",
            "Ortalama Değer: 57.795797314024796\n"
          ]
        }
      ]
    },
    {
      "cell_type": "code",
      "source": [
        "#İşlem tipleri nelerdir\n",
        "islem_tipleri = data['Tercih'].unique()\n",
        "\n",
        "print(\"İşlem tipleri:\")\n",
        "for islem_tipi in islem_tipleri:\n",
        "    print(islem_tipi)"
      ],
      "metadata": {
        "colab": {
          "base_uri": "https://localhost:8080/"
        },
        "id": "HwE69IxsxSyR",
        "outputId": "4752cfc0-73ee-4371-cb7b-5f58525dcfc4"
      },
      "execution_count": 96,
      "outputs": [
        {
          "output_type": "stream",
          "name": "stdout",
          "text": [
            "İşlem tipleri:\n",
            "CeptePos\n",
            "ÖKC\n",
            "SadePos\n"
          ]
        }
      ]
    },
    {
      "cell_type": "code",
      "source": [
        "#Pasif üyeler kimlerdir\n",
        "uye_durumlar = data['UyeDurum'].unique()\n",
        "\n",
        "# \"Passif\" üyeleri bulun\n",
        "passif_uyeler = data[data['UyeDurum'] == 'Pasif']\n",
        "\n",
        "# \"Passif\" üyeleri listeleyin\n",
        "print(\"Passif Üyeler:\")\n",
        "print(passif_uyeler)"
      ],
      "metadata": {
        "id": "bs5U3sPtxlZ4"
      },
      "execution_count": null,
      "outputs": []
    },
    {
      "cell_type": "code",
      "source": [
        "#Üyelerin yüzde kaçı aktiftir?\n",
        "aktif_uye_sayisi = len(data[data['UyeDurum'] == 'Aktif'])\n",
        "\n",
        "# Toplam üye sayısını hesaplayın\n",
        "toplam_uye_sayisi = len(data)\n",
        "\n",
        "# Aktif üyelerin yüzdesini hesaplayın\n",
        "aktif_uye_yuzdesi = (aktif_uye_sayisi / toplam_uye_sayisi) * 100\n",
        "\n",
        "# Sonucu yazdırın\n",
        "print(f\"Aktif Üyelerin Yüzdesi: {aktif_uye_yuzdesi:.2f}%\")"
      ],
      "metadata": {
        "colab": {
          "base_uri": "https://localhost:8080/"
        },
        "id": "Vn2352tgyAdC",
        "outputId": "31c78337-7858-47a1-f5db-69428f139a27"
      },
      "execution_count": 99,
      "outputs": [
        {
          "output_type": "stream",
          "name": "stdout",
          "text": [
            "Aktif Üyelerin Yüzdesi: 60.42%\n"
          ]
        }
      ]
    },
    {
      "cell_type": "code",
      "source": [
        "#ilk işlem yapılan tarih ve son işlem yapılan tarih nedir?\n",
        "data['IslemTarih'] = pd.to_datetime(data['IslemTarih'])\n",
        "\n",
        "# Tarihleri sıralayın ve en eski ile en yeni tarihi bulun\n",
        "ilk_islem_tarihi = data['IslemTarih'].min()\n",
        "son_islem_tarihi = data['IslemTarih'].max()\n",
        "\n",
        "# Sonuçları yazdırın\n",
        "print(f\"İlk İşlem Yapılan Tarih: {ilk_islem_tarihi}\")\n",
        "print(f\"Son İşlem Yapılan Tarih: {son_islem_tarihi}\")"
      ],
      "metadata": {
        "colab": {
          "base_uri": "https://localhost:8080/"
        },
        "id": "Jyeosb8QyQFr",
        "outputId": "a204baa9-1517-4c6f-e93f-7d6e2cf13e4c"
      },
      "execution_count": 100,
      "outputs": [
        {
          "output_type": "stream",
          "name": "stdout",
          "text": [
            "İlk İşlem Yapılan Tarih: 2014-09-25 10:08:52\n",
            "Son İşlem Yapılan Tarih: 2023-10-26 16:59:00\n"
          ]
        }
      ]
    },
    {
      "cell_type": "code",
      "source": [
        "#Toplam işlem sayısı nedir\n",
        "toplam_islem_sayisi = data['IslemID'].nunique()\n",
        "\n",
        "print(f\"Toplam işlem sayısı: {toplam_islem_sayisi}\")"
      ],
      "metadata": {
        "colab": {
          "base_uri": "https://localhost:8080/"
        },
        "id": "XWHVEUoLp7Yp",
        "outputId": "6adeb81b-20ec-4012-97c2-c79c87299b6c"
      },
      "execution_count": 70,
      "outputs": [
        {
          "output_type": "stream",
          "name": "stdout",
          "text": [
            "Toplam işlem sayısı: 891073\n"
          ]
        }
      ]
    },
    {
      "cell_type": "code",
      "source": [
        "#Son 10 günde kaç işlem gerçekleşti\n",
        "# İşlem tarihlerini datetime veri türüne dönüştürün\n",
        "data['IslemTarih'] = pd.to_datetime(data['IslemTarih'])\n",
        "\n",
        "# Şuanki tarihi alın\n",
        "bugun = datetime.today()\n",
        "\n",
        "# 10 gün önceki tarihi hesaplayın\n",
        "on_gun_once = bugun - timedelta(days=10)\n",
        "\n",
        "# Son 10 günde gerçekleşen işlemleri filtreleyin\n",
        "son_10_gun_islemleri = data[(data['IslemTarih'] >= on_gun_once) & (data['IslemTarih'] <= bugun)]\n",
        "\n",
        "# Son 10 günde gerçekleşen işlem sayısını hesaplayın\n",
        "son_10_gun_islem_sayisi = len(son_10_gun_islemleri)\n",
        "\n",
        "print(f\"Son 10 günde gerçekleşen işlem sayısı: {son_10_gun_islem_sayisi}\")"
      ],
      "metadata": {
        "colab": {
          "base_uri": "https://localhost:8080/"
        },
        "id": "iJn5oD2LqlKs",
        "outputId": "56fed054-d279-4183-c747-6f20b32744bb"
      },
      "execution_count": 72,
      "outputs": [
        {
          "output_type": "stream",
          "name": "stdout",
          "text": [
            "Son 10 günde gerçekleşen işlem sayısı: 2798\n"
          ]
        }
      ]
    },
    {
      "cell_type": "code",
      "source": [
        "#Hangi işlem tipi en fazla gerçekleşmiştir?\n",
        "\n",
        "# İşlem tiplerini sayın\n",
        "islem_tipleri_sayisi = data['Tercih'].value_counts()\n",
        "\n",
        "# En fazla tekrarlanan işlem tipini bulun\n",
        "en_fazla_tekrarlanan_islem_tipi = islem_tipleri_sayisi.idxmax()\n",
        "en_fazla_tekrar_sayisi = islem_tipleri_sayisi.max()\n",
        "\n",
        "print(f\"Hangi işlem tipi en fazla gerçekleşmiştir?\")\n",
        "print(f\"'{en_fazla_tekrarlanan_islem_tipi}' işlem tipi {en_fazla_tekrar_sayisi} kez gerçekleştirilmiştir.\")"
      ],
      "metadata": {
        "colab": {
          "base_uri": "https://localhost:8080/"
        },
        "id": "dF0bP1kYrl_A",
        "outputId": "62c728de-bec0-4db3-eae3-af4920712893"
      },
      "execution_count": 74,
      "outputs": [
        {
          "output_type": "stream",
          "name": "stdout",
          "text": [
            "Hangi işlem tipi en fazla gerçekleşmiştir?\n",
            "'ÖKC' işlem tipi 838247 kez gerçekleştirilmiştir.\n"
          ]
        }
      ]
    },
    {
      "cell_type": "code",
      "source": [
        "#En yüksek işlem tutarı ne kadardır?\n",
        "en_yuksek_islem_tutari = data['IslemTutar'].max()\n",
        "\n",
        "print(f\"En yüksek işlem tutarı ne kadardır?\")\n",
        "print(f\"En yüksek işlem tutarı {en_yuksek_islem_tutari} TL'dir.\")"
      ],
      "metadata": {
        "colab": {
          "base_uri": "https://localhost:8080/"
        },
        "id": "gGXQGLDtr4Bq",
        "outputId": "899f86cb-86a3-467c-a193-dc7c10e5b969"
      },
      "execution_count": 76,
      "outputs": [
        {
          "output_type": "stream",
          "name": "stdout",
          "text": [
            "En yüksek işlem tutarı ne kadardır?\n",
            "En yüksek işlem tutarı 215.0 TL'dir.\n"
          ]
        }
      ]
    },
    {
      "cell_type": "code",
      "source": [
        "#En düşük işlem tutarı ne kadardır?\n",
        "en_dusuk_islem_tutari = data['IslemTutar'].min()\n",
        "\n",
        "print(f\"En düşük işlem tutarı ne kadardır?\")\n",
        "print(f\"En düşük işlem tutarı {en_dusuk_islem_tutari} TL'dir.\")"
      ],
      "metadata": {
        "colab": {
          "base_uri": "https://localhost:8080/"
        },
        "id": "wzuh2DF7sPvY",
        "outputId": "fd1fce82-d4a6-464b-ce58-eaaff884c7d5"
      },
      "execution_count": 77,
      "outputs": [
        {
          "output_type": "stream",
          "name": "stdout",
          "text": [
            "En düşük işlem tutarı ne kadardır?\n",
            "En düşük işlem tutarı 1.01 TL'dir.\n"
          ]
        }
      ]
    },
    {
      "cell_type": "code",
      "source": [
        "#Ortalama işlem tutarı nedir?\n",
        "ortalama_islem_tutari = data['IslemTutar'].mean()\n",
        "\n",
        "print(\"Ortalama işlem tutarı nedir?\")\n",
        "print(f\"Ortalama işlem tutarı: {ortalama_islem_tutari:.2f} TL\")"
      ],
      "metadata": {
        "colab": {
          "base_uri": "https://localhost:8080/"
        },
        "id": "RQdg9ie-shm8",
        "outputId": "46ff12e9-cd98-4c8c-cbfa-58544f50f6af"
      },
      "execution_count": 78,
      "outputs": [
        {
          "output_type": "stream",
          "name": "stdout",
          "text": [
            "Ortalama işlem tutarı nedir?\n",
            "Ortalama işlem tutarı: 57.80 TL\n"
          ]
        }
      ]
    },
    {
      "cell_type": "code",
      "source": [
        "#Hangi şehirde en çok işlem yapılmıştır?\n",
        "sehir_islem_sayilari = data['Sehir'].value_counts()\n",
        "\n",
        "# En fazla işlem yapılan şehri belirleyin\n",
        "en_fazla_islem_yapilan_sehir = sehir_islem_sayilari.idxmax()\n",
        "en_fazla_islem_sayisi = sehir_islem_sayilari.max()\n",
        "\n",
        "print(\"Hangi şehirde en çok işlem yapılmıştır?\")\n",
        "print(f\"{en_fazla_islem_yapilan_sehir} şehrinde en fazla işlem yapılmıştır. ({en_fazla_islem_sayisi} işlem)\")"
      ],
      "metadata": {
        "colab": {
          "base_uri": "https://localhost:8080/"
        },
        "id": "R2CQLIlcswp5",
        "outputId": "478de0dc-546e-45c1-9f33-5a9732668579"
      },
      "execution_count": 79,
      "outputs": [
        {
          "output_type": "stream",
          "name": "stdout",
          "text": [
            "Hangi şehirde en çok işlem yapılmıştır?\n",
            "İstanbul şehrinde en fazla işlem yapılmıştır. (613742 işlem)\n"
          ]
        }
      ]
    },
    {
      "cell_type": "code",
      "source": [
        "#Hangi kullanıcı tipi en fazla işlem yapmıştır? saçma bir soru oldu neyse\n",
        "kullanici_tipi_islem_sayilari = data['UyeDurum'].value_counts()\n",
        "\n",
        "# En fazla işlem yapan kullanıcı tipini belirleyin\n",
        "en_fazla_islem_yapan_kullanici_tipi = kullanici_tipi_islem_sayilari.idxmax()\n",
        "en_fazla_islem_sayisi = kullanici_tipi_islem_sayilari.max()\n",
        "\n",
        "print(\"Hangi kullanıcı tipi en fazla işlem yapmıştır?\")\n",
        "print(f\"{en_fazla_islem_yapan_kullanici_tipi} kullanıcı tipi en fazla işlem yapmıştır. ({en_fazla_islem_sayisi} işlem)\")"
      ],
      "metadata": {
        "colab": {
          "base_uri": "https://localhost:8080/"
        },
        "id": "JonIrtKZtFhX",
        "outputId": "99993c01-b7c7-4ec2-c7ef-422ea3091200"
      },
      "execution_count": 80,
      "outputs": [
        {
          "output_type": "stream",
          "name": "stdout",
          "text": [
            "Hangi kullanıcı tipi en fazla işlem yapmıştır?\n",
            "Aktif kullanıcı tipi en fazla işlem yapmıştır. (538365 işlem)\n"
          ]
        }
      ]
    },
    {
      "cell_type": "code",
      "source": [
        "#Belirli bir tarihte kaç işlem gerçekleşti?\n",
        "\n",
        "# İlgili tarihi seçin (örneğin, '2023-10-15')\n",
        "secilen_tarih = '2023-10-15'\n",
        "\n",
        "# Seçilen tarihe sahip işlemleri filtreleyin\n",
        "secilen_tarihe_gore_islemler = data[data['IslemTarih'].dt.date == pd.to_datetime(secilen_tarih).date()]\n",
        "\n",
        "# Seçilen tarihte kaç işlem gerçekleştiğini hesaplayın\n",
        "islem_sayisi = len(secilen_tarihe_gore_islemler)\n",
        "\n",
        "print(f\"{secilen_tarih} tarihinde toplam {islem_sayisi} işlem gerçekleşmiştir.\")"
      ],
      "metadata": {
        "colab": {
          "base_uri": "https://localhost:8080/"
        },
        "id": "wYLFZgLWtgUV",
        "outputId": "b79f0afc-5005-483b-ca92-ce3a4dc2a370"
      },
      "execution_count": 81,
      "outputs": [
        {
          "output_type": "stream",
          "name": "stdout",
          "text": [
            "2023-10-15 tarihinde toplam 409 işlem gerçekleşmiştir.\n"
          ]
        }
      ]
    },
    {
      "cell_type": "code",
      "source": [
        "#Belirli bir işlem türünde kaç işlem yapılmıştır?\n",
        "\n",
        "# İlgili işlem türünü seçin (örneğin, 'CeptePos')\n",
        "secilen_islem_turu = 'CeptePos'\n",
        "\n",
        "# Seçilen işlem türüne sahip işlemleri filtreleyin\n",
        "secilen_islem_turune_gore_islemler = data[data['Tercih'] == secilen_islem_turu]\n",
        "\n",
        "# Seçilen işlem türünde kaç işlem yapıldığını hesaplayın\n",
        "islem_sayisi = len(secilen_islem_turune_gore_islemler)\n",
        "\n",
        "print(f\"{secilen_islem_turu} işlem türünde toplam {islem_sayisi} işlem yapılmıştır.\")"
      ],
      "metadata": {
        "colab": {
          "base_uri": "https://localhost:8080/"
        },
        "id": "-EBrbE3jtqU1",
        "outputId": "bb7511ef-e83b-49fb-b760-43c39088a1cd"
      },
      "execution_count": 82,
      "outputs": [
        {
          "output_type": "stream",
          "name": "stdout",
          "text": [
            "CeptePos işlem türünde toplam 52463 işlem yapılmıştır.\n"
          ]
        }
      ]
    },
    {
      "cell_type": "code",
      "source": [
        "#Son 10 günde hangi marka en fazla işlem yapmıştır?\n",
        "bugun = datetime.today()\n",
        "baslangic_tarihi = bugun - timedelta(days=10)\n",
        "\n",
        "# Belirlenen zaman aralığına ait işlemleri filtreleyin\n",
        "son_10_gun_islemleri = data[data['IslemTarih'] >= baslangic_tarihi]\n",
        "\n",
        "# Hangi markanın en fazla işlem yaptığını hesaplayın\n",
        "en_fazla_islem_yapan_marka = son_10_gun_islemleri['Marka'].value_counts().idxmax()\n",
        "\n",
        "# En fazla işlem yapan marka ve işlem sayısını yazdırın\n",
        "en_fazla_islem_sayisi = son_10_gun_islemleri['Marka'].value_counts().max()\n",
        "\n",
        "print(f\"Son 10 günde en fazla işlem yapan marka: {en_fazla_islem_yapan_marka}, Toplam işlem sayısı: {en_fazla_islem_sayisi}\")"
      ],
      "metadata": {
        "colab": {
          "base_uri": "https://localhost:8080/"
        },
        "id": "ckJIACKxt7Cb",
        "outputId": "84b3462d-5585-44be-b8c8-0e5a9e276a0e"
      },
      "execution_count": 83,
      "outputs": [
        {
          "output_type": "stream",
          "name": "stdout",
          "text": [
            "Son 10 günde en fazla işlem yapan marka: aida aka gida, Toplam işlem sayısı: 664\n"
          ]
        }
      ]
    },
    {
      "cell_type": "code",
      "source": [
        "#Hangi saat diliminde en çok işlem gerçekleşmiştir?\n",
        "\n",
        "# İşlem tarihinden saat bilgisini ayıklayın\n",
        "data['IslemSaat'] = data['IslemTarih'].dt.hour\n",
        "\n",
        "# Hangi saat diliminde ne kadar işlem yapıldığını hesaplayın\n",
        "saat_dilimi_islemleri = data['IslemSaat'].value_counts()\n",
        "\n",
        "# En fazla işlemin hangi saat diliminde gerçekleştiğini bulun\n",
        "en_fazla_islem_yapilan_saat = saat_dilimi_islemleri.idxmax()\n",
        "en_fazla_islem_sayisi = saat_dilimi_islemleri.max()\n",
        "\n",
        "print(f\"En fazla işlem {en_fazla_islem_yapilan_saat}. saat diliminde gerçekleşmiştir. Toplam işlem sayısı: {en_fazla_islem_sayisi}\")"
      ],
      "metadata": {
        "colab": {
          "base_uri": "https://localhost:8080/"
        },
        "id": "CB-UANZ4uNL2",
        "outputId": "e5b4078c-7472-4685-fd89-a6ed290b5234"
      },
      "execution_count": 86,
      "outputs": [
        {
          "output_type": "stream",
          "name": "stdout",
          "text": [
            "En fazla işlem 18. saat diliminde gerçekleşmiştir. Toplam işlem sayısı: 87694\n"
          ]
        }
      ]
    },
    {
      "cell_type": "code",
      "source": [
        "#En fazla işlem yapan ilk 5 işyeri hangileridir?\n",
        "en_fazla_islem_yapan_isyerleri = data['Marka'].value_counts()\n",
        "\n",
        "# İşlem sayısına göre işyerlerini sıralayın ve ilk 5 işyerini seçin\n",
        "ilk_5_isyeri = en_fazla_islem_yapan_isyerleri.head(5)\n",
        "\n",
        "print(\"En fazla işlem yapan ilk 5 işyeri:\")\n",
        "print(ilk_5_isyeri)"
      ],
      "metadata": {
        "colab": {
          "base_uri": "https://localhost:8080/"
        },
        "id": "EpnbO8LMuqw1",
        "outputId": "05458bf1-58b6-4dfe-d4c6-bb4922129dbb"
      },
      "execution_count": 87,
      "outputs": [
        {
          "output_type": "stream",
          "name": "stdout",
          "text": [
            "En fazla işlem yapan ilk 5 işyeri:\n",
            "nfka nu yufka    145830\n",
            "eket ermarket     77035\n",
            "aziz ab leziz     48235\n",
            "biye bakaliye     47868\n",
            "hdeo he video     47521\n",
            "Name: Marka, dtype: int64\n"
          ]
        }
      ]
    },
    {
      "cell_type": "code",
      "source": [
        "#Son 5 günde hangi işlem tipi ile ne kadar işlem yapılmıştır?\n",
        "end_date = datetime.today()\n",
        "start_date = end_date - timedelta(days=5)\n",
        "\n",
        "# Tarih aralığına uyan işlemleri seçin\n",
        "son_10_gun_islemleri = data[(data['IslemTarih'] >= start_date) & (data['IslemTarih'] <= end_date)]\n",
        "\n",
        "# İşlem tiplerine göre gruplandırın\n",
        "gruplu_islemler = son_10_gun_islemleri.groupby('Tercih')\n",
        "\n",
        "# Her işlem tipinde yapılan işlem sayılarını ve toplam işlem tutarlarını hesaplayın\n",
        "islemler_ve_tutarlar = gruplu_islemler.agg({'IslemID': 'count', 'IslemTutar': 'sum'})\n",
        "\n",
        "print(\"Son 5 günde hangi işlem tipi ile ne kadar işlem yapılmıştır:\")\n",
        "print(islemler_ve_tutarlar)"
      ],
      "metadata": {
        "colab": {
          "base_uri": "https://localhost:8080/"
        },
        "id": "4h68WmvWu509",
        "outputId": "45e68684-4196-4230-fb0b-d5e1a369bb4d"
      },
      "execution_count": 88,
      "outputs": [
        {
          "output_type": "stream",
          "name": "stdout",
          "text": [
            "Son 5 günde hangi işlem tipi ile ne kadar işlem yapılmıştır:\n",
            "        IslemID  IslemTutar\n",
            "Tercih                     \n",
            "ÖKC         633    58267.45\n"
          ]
        }
      ]
    },
    {
      "cell_type": "code",
      "source": [
        "#belirli bir şehirde en fazla hangi işlem tipinin gerçekleştiği ve toplam işlem sayısı\n",
        "# İşlem yapılacak belirli bir şehiri seçin\n",
        "hedef_sehir = \"Samsun\"\n",
        "\n",
        "# Belirli şehirde gerçekleşen işlemleri seçin\n",
        "belirli_sehir_islemleri = data[data['Sehir'] == hedef_sehir]\n",
        "\n",
        "# İşlem tiplerine göre gruplandırın\n",
        "gruplu_islemler = belirli_sehir_islemleri.groupby('Tercih')\n",
        "\n",
        "# Her işlem tipinde yapılan işlem sayılarını hesaplayın\n",
        "islemler_ve_sayilar = gruplu_islemler.agg({'IslemID': 'count'})\n",
        "\n",
        "# En fazla işlem yapılan işlem tipini bulun\n",
        "en_fazla_islem_tipi = islemler_ve_sayilar.idxmax()[0]\n",
        "toplam_islem_sayisi = islemler_ve_sayilar.max()[0]\n",
        "\n",
        "print(f\"{hedef_sehir} şehrinde en fazla işlem yapılan işlem tipi: {en_fazla_islem_tipi} ({toplam_islem_sayisi} işlem)\")"
      ],
      "metadata": {
        "colab": {
          "base_uri": "https://localhost:8080/"
        },
        "id": "0W1kJ5apvO2H",
        "outputId": "4580e152-3833-4560-cd63-6c1297bb566a"
      },
      "execution_count": 90,
      "outputs": [
        {
          "output_type": "stream",
          "name": "stdout",
          "text": [
            "Samsun şehrinde en fazla işlem yapılan işlem tipi: ÖKC (26543 işlem)\n"
          ]
        }
      ]
    },
    {
      "cell_type": "code",
      "source": [
        "#Son 10 günde en fazla işlemi hangi kullanıcı yapmıştır?\n",
        "\n",
        "end_date = datetime.today()\n",
        "start_date = end_date - timedelta(days=10)\n",
        "\n",
        "# Tarih aralığına uyan işlemleri seçin\n",
        "son_10_gun_islemleri = data[(data['IslemTarih'] >= start_date) & (data['IslemTarih'] <= end_date)]\n",
        "\n",
        "# Kullanıcıları gruplandırın ve her kullanıcının yaptığı işlem sayısını hesaplayın\n",
        "kullanicilar_ve_sayilar = son_10_gun_islemleri.groupby('id').agg({'IslemID': 'count'})\n",
        "\n",
        "# En fazla işlemi yapan kullanıcıyı ve yaptığı işlem sayısını bulun\n",
        "en_fazla_islem_yapan_kullanici = kullanicilar_ve_sayilar.idxmax()[0]\n",
        "toplam_islem_sayisi = kullanicilar_ve_sayilar.max()[0]\n",
        "\n",
        "print(f\"Son 10 günde en fazla işlemi yapan kullanıcı: {en_fazla_islem_yapan_kullanici} ({toplam_islem_sayisi} işlem)\")"
      ],
      "metadata": {
        "colab": {
          "base_uri": "https://localhost:8080/"
        },
        "id": "4TwtztJTvwdH",
        "outputId": "4cea7622-da2d-4052-d614-d13c2343fbc8"
      },
      "execution_count": 92,
      "outputs": [
        {
          "output_type": "stream",
          "name": "stdout",
          "text": [
            "Son 10 günde en fazla işlemi yapan kullanıcı: 301003354 (664 işlem)\n"
          ]
        }
      ]
    },
    {
      "cell_type": "code",
      "source": [
        "#Belirli bir işlem türünün ortalama tutarı nedir?\n",
        "\n",
        "# İlgilenilen işlem türünü belirleyin\n",
        "ilgilenilen_islem_turu = \"CeptePos\"  # Değiştirmeniz gereken işlem türünü burada belirtin\n",
        "\n",
        "# İlgilenilen işlem türünü içeren veriyi filtreleyin\n",
        "filtrelenmis_veri = data[data['Tercih'] == ilgilenilen_islem_turu]\n",
        "\n",
        "# İlgilenilen işlem türünün ortalama tutarını hesaplayın\n",
        "ortalama_tutar = filtrelenmis_veri['IslemTutar'].mean()\n",
        "\n",
        "print(f\"{ilgilenilen_islem_turu} işlem türünün ortalama tutarı: {ortalama_tutar:.2f}\")"
      ],
      "metadata": {
        "colab": {
          "base_uri": "https://localhost:8080/"
        },
        "id": "QMPVcv-jwQrB",
        "outputId": "6aa9badf-d12f-4fd0-d2ef-af4eb5a56b5d"
      },
      "execution_count": 93,
      "outputs": [
        {
          "output_type": "stream",
          "name": "stdout",
          "text": [
            "CeptePos işlem türünün ortalama tutarı: 75.51\n"
          ]
        }
      ]
    },
    {
      "cell_type": "code",
      "source": [
        "#Hangi kullanıcı en fazla işlem tutarı gerçekleştirmiştir?\n",
        "# Kullanıcı başına toplam işlem tutarını hesaplayın\n",
        "kullanici_bazinda_islem_tutarlari = data.groupby('id')['IslemTutar'].sum()\n",
        "\n",
        "# En yüksek toplam işlem tutarına sahip kullanıcıyı bulun\n",
        "en_yuksek_tutarli_kullanici = kullanici_bazinda_islem_tutarlari.idxmax()\n",
        "\n",
        "print(f\"En fazla işlem tutarına sahip kullanıcı ID'si: {en_yuksek_tutarli_kullanici}\")"
      ],
      "metadata": {
        "colab": {
          "base_uri": "https://localhost:8080/"
        },
        "id": "ajh1abgXwrD-",
        "outputId": "12e3f88a-eab2-4d45-f294-8e5c50bf0352"
      },
      "execution_count": 94,
      "outputs": [
        {
          "output_type": "stream",
          "name": "stdout",
          "text": [
            "En fazla işlem tutarına sahip kullanıcı ID'si: 301025608\n"
          ]
        }
      ]
    },
    {
      "cell_type": "code",
      "source": [
        "#En yüksek işlem tutarına sahip olan işlem kimin tarafından yapılmıştır?\n",
        "# Tüm işlemlerin işlem tutarlarını ve işlem ID'lerini alın\n",
        "islem_tutarlari = data['IslemTutar']\n",
        "islem_idleri = data['IslemID']\n",
        "\n",
        "# En yüksek işlem tutarına sahip olan işlem ID'sini bulun\n",
        "en_yuksek_tutarli_islem_id = islem_idleri[islem_tutarlari.idxmax()]\n",
        "\n",
        "# En yüksek işlem tutarına sahip olan işlemi kimin tarafından yapıldığını tespit edin\n",
        "en_yuksek_tutarli_islem_yapan = data[data['IslemID'] == en_yuksek_tutarli_islem_id]['Marka'].values[0]\n",
        "\n",
        "print(f\"En yüksek işlem tutarına sahip olan işlemi yapan taraf: {en_yuksek_tutarli_islem_yapan}\")"
      ],
      "metadata": {
        "colab": {
          "base_uri": "https://localhost:8080/"
        },
        "id": "VOFcpsArxDCY",
        "outputId": "4499b82f-4f12-4da6-f8bf-cc117db51219"
      },
      "execution_count": 95,
      "outputs": [
        {
          "output_type": "stream",
          "name": "stdout",
          "text": [
            "En yüksek işlem tutarına sahip olan işlemi yapan taraf: bkal babakkal\n"
          ]
        }
      ]
    },
    {
      "cell_type": "code",
      "source": [
        "# Veri setindeki sütunların dağılımlarını görselleştirme (örneğin, histogramlar)\n",
        "import matplotlib.pyplot as plt\n",
        "data['IslemTutar'].plot(kind='hist', bins=20)\n",
        "plt.xlabel('IslemTutar')\n",
        "plt.ylabel('Frekans')\n",
        "plt.title('IslemTutar Dağılımı')\n",
        "plt.show()\n",
        "\n",
        "# Veri setindeki iki sütun arasındaki ilişkiyi gösterme (örneğin, scatter plot)\n",
        "data.plot.scatter(x='IslemTarih', y='IslemTutar')\n",
        "plt.xlabel('IslemTarih')\n",
        "plt.ylabel('IslemTutar')\n",
        "plt.title('IslemTarih ve IslemTutar İlişkisi')\n",
        "plt.show()"
      ],
      "metadata": {
        "colab": {
          "base_uri": "https://localhost:8080/",
          "height": 929
        },
        "id": "biWVndudzJVv",
        "outputId": "44f6a274-7c23-4286-b1c7-a0db3dbcefd1"
      },
      "execution_count": 103,
      "outputs": [
        {
          "output_type": "display_data",
          "data": {
            "text/plain": [
              "<Figure size 640x480 with 1 Axes>"
            ],
            "image/png": "[encoded data removed]"
          },
          "metadata": {}
        },
        {
          "output_type": "display_data",
          "data": {
            "text/plain": [
              "<Figure size 640x480 with 1 Axes>"
            ],
            "image/png": "[encoded data removed]"
          },
          "metadata": {}
        }
      ]
    },
    {
      "cell_type": "markdown",
      "source": [
        "# Feature Engineering\n",
        "\"UyeDurum\" sütunundaki \"Aktif\" ve \"Pasif\" değerlerini 1 ve 0'a dönüştürme\n",
        "\"IslemTarih\" sütunundan haftanın gününü ve ayını çıkarma\n",
        "\"IslemTutar\" sütununu Min-Max ölçeklendirme ile 0-1 aralığına getirme vs."
      ],
      "metadata": {
        "id": "kuzi5x1BzgE4"
      }
    },
    {
      "cell_type": "code",
      "source": [
        "df = pd.read_csv('cleaned_data.csv')"
      ],
      "metadata": {
        "id": "cU4J0rgg0XJp"
      },
      "execution_count": null,
      "outputs": []
    },
    {
      "cell_type": "code",
      "source": [
        "df['UyeDurum'] = df['UyeDurum'].map({'Aktif': 1, 'Pasif': 0})"
      ],
      "metadata": {
        "id": "jOeDeCrX03he"
      },
      "execution_count": 105,
      "outputs": []
    },
    {
      "cell_type": "code",
      "source": [
        "df['IslemTarih'] = pd.to_datetime(df['IslemTarih'], errors='coerce')\n",
        "df['HaftaninGunu'] = df['IslemTarih'].dt.dayofweek\n",
        "df['Ay'] = df['IslemTarih'].dt.month"
      ],
      "metadata": {
        "id": "DGyd08Ru09NS"
      },
      "execution_count": 107,
      "outputs": []
    },
    {
      "cell_type": "code",
      "source": [
        "from sklearn.preprocessing import MinMaxScaler\n",
        "\n",
        "scaler = MinMaxScaler()\n",
        "df['IslemTutar'] = scaler.fit_transform(df['IslemTutar'].values.reshape(-1, 1))"
      ],
      "metadata": {
        "id": "PSsPz3oO1a7d"
      },
      "execution_count": 108,
      "outputs": []
    },
    {
      "cell_type": "code",
      "source": [
        "df\n",
        "df.to_csv('featuring_data.csv', index=False)"
      ],
      "metadata": {
        "id": "zFcdHsvg14DR"
      },
      "execution_count": 110,
      "outputs": []
    },
    {
      "cell_type": "markdown",
      "source": [
        "# Veri setinizi eğitim, doğrulama ve test kümelerine bölmek ve modelinizi eğitmek"
      ],
      "metadata": {
        "id": "ZUd2GtiB23ca"
      }
    },
    {
      "cell_type": "code",
      "source": [
        "from sklearn.model_selection import train_test_split"
      ],
      "metadata": {
        "id": "16T6b2kM29GM"
      },
      "execution_count": 111,
      "outputs": []
    },
    {
      "cell_type": "code",
      "source": [
        "# Hedef değişkeni seçin (örneğin 'IslemTutar')\n",
        "y = df['IslemTutar']\n",
        "\n",
        "# Bağımsız değişkenleri seçin (örneğin 'Marka' ve 'IsyeriTipi')\n",
        "X = df[['Marka', 'IsyeriTipi']]\n",
        "\n",
        "# Kategorik sütunları sayısal değerlere dönüştürün\n",
        "X = pd.get_dummies(X, columns=['Marka', 'IsyeriTipi'])\n",
        "\n",
        "#Verinizi eğitim ve test kümelerine bölmek için train_test_split fonksiyonunu kullanın:\n",
        "X_train, X_test, y_train, y_test = train_test_split(X, y, test_size=0.3, random_state=42)\n",
        "\n",
        "#Lineer Regresyon modelini eğitin:\n",
        "model = LinearRegression()\n",
        "model.fit(X_train, y_train)"
      ],
      "metadata": {
        "colab": {
          "base_uri": "https://localhost:8080/",
          "height": 75
        },
        "id": "3pDiW8Eh3Pde",
        "outputId": "2c08bed6-6dc7-45ae-f910-a7564415176b"
      },
      "execution_count": 118,
      "outputs": [
        {
          "output_type": "execute_result",
          "data": {
            "text/plain": [
              "LinearRegression()"
            ],
            "text/html": [
              "<style>#sk-container-id-1 {color: black;background-color: white;}#sk-container-id-1 pre{padding: 0;}#sk-container-id-1 div.sk-toggleable {background-color: white;}#sk-container-id-1 label.sk-toggleable__label {cursor: pointer;display: block;width: 100%;margin-bottom: 0;padding: 0.3em;box-sizing: border-box;text-align: center;}#sk-container-id-1 label.sk-toggleable__label-arrow:before {content: \"▸\";float: left;margin-right: 0.25em;color: #696969;}#sk-container-id-1 label.sk-toggleable__label-arrow:hover:before {color: black;}#sk-container-id-1 div.sk-estimator:hover label.sk-toggleable__label-arrow:before {color: black;}#sk-container-id-1 div.sk-toggleable__content {max-height: 0;max-width: 0;overflow: hidden;text-align: left;background-color: #f0f8ff;}#sk-container-id-1 div.sk-toggleable__content pre {margin: 0.2em;color: black;border-radius: 0.25em;background-color: #f0f8ff;}#sk-container-id-1 input.sk-toggleable__control:checked~div.sk-toggleable__content {max-height: 200px;max-width: 100%;overflow: auto;}#sk-container-id-1 input.sk-toggleable__control:checked~label.sk-toggleable__label-arrow:before {content: \"▾\";}#sk-container-id-1 div.sk-estimator input.sk-toggleable__control:checked~label.sk-toggleable__label {background-color: #d4ebff;}#sk-container-id-1 div.sk-label input.sk-toggleable__control:checked~label.sk-toggleable__label {background-color: #d4ebff;}#sk-container-id-1 input.sk-hidden--visually {border: 0;clip: rect(1px 1px 1px 1px);clip: rect(1px, 1px, 1px, 1px);height: 1px;margin: -1px;overflow: hidden;padding: 0;position: absolute;width: 1px;}#sk-container-id-1 div.sk-estimator {font-family: monospace;background-color: #f0f8ff;border: 1px dotted black;border-radius: 0.25em;box-sizing: border-box;margin-bottom: 0.5em;}#sk-container-id-1 div.sk-estimator:hover {background-color: #d4ebff;}#sk-container-id-1 div.sk-parallel-item::after {content: \"\";width: 100%;border-bottom: 1px solid gray;flex-grow: 1;}#sk-container-id-1 div.sk-label:hover label.sk-toggleable__label {background-color: #d4ebff;}#sk-container-id-1 div.sk-serial::before {content: \"\";position: absolute;border-left: 1px solid gray;box-sizing: border-box;top: 0;bottom: 0;left: 50%;z-index: 0;}#sk-container-id-1 div.sk-serial {display: flex;flex-direction: column;align-items: center;background-color: white;padding-right: 0.2em;padding-left: 0.2em;position: relative;}#sk-container-id-1 div.sk-item {position: relative;z-index: 1;}#sk-container-id-1 div.sk-parallel {display: flex;align-items: stretch;justify-content: center;background-color: white;position: relative;}#sk-container-id-1 div.sk-item::before, #sk-container-id-1 div.sk-parallel-item::before {content: \"\";position: absolute;border-left: 1px solid gray;box-sizing: border-box;top: 0;bottom: 0;left: 50%;z-index: -1;}#sk-container-id-1 div.sk-parallel-item {display: flex;flex-direction: column;z-index: 1;position: relative;background-color: white;}#sk-container-id-1 div.sk-parallel-item:first-child::after {align-self: flex-end;width: 50%;}#sk-container-id-1 div.sk-parallel-item:last-child::after {align-self: flex-start;width: 50%;}#sk-container-id-1 div.sk-parallel-item:only-child::after {width: 0;}#sk-container-id-1 div.sk-dashed-wrapped {border: 1px dashed gray;margin: 0 0.4em 0.5em 0.4em;box-sizing: border-box;padding-bottom: 0.4em;background-color: white;}#sk-container-id-1 div.sk-label label {font-family: monospace;font-weight: bold;display: inline-block;line-height: 1.2em;}#sk-container-id-1 div.sk-label-container {text-align: center;}#sk-container-id-1 div.sk-container {/* jupyter's `normalize.less` sets `[hidden] { display: none; }` but bootstrap.min.css set `[hidden] { display: none !important; }` so we also need the `!important` here to be able to override the default hidden behavior on the sphinx rendered scikit-learn.org. See: https://github.com/scikit-learn/scikit-learn/issues/21755 */display: inline-block !important;position: relative;}#sk-container-id-1 div.sk-text-repr-fallback {display: none;}</style><div id=\"sk-container-id-1\" class=\"sk-top-container\"><div class=\"sk-text-repr-fallback\"><pre>LinearRegression()</pre><b>In a Jupyter environment, please rerun this cell to show the HTML representation or trust the notebook. <br />On GitHub, the HTML representation is unable to render, please try loading this page with nbviewer.org.</b></div><div class=\"sk-container\" hidden><div class=\"sk-item\"><div class=\"sk-estimator sk-toggleable\"><input class=\"sk-toggleable__control sk-hidden--visually\" id=\"sk-estimator-id-1\" type=\"checkbox\" checked><label for=\"sk-estimator-id-1\" class=\"sk-toggleable__label sk-toggleable__label-arrow\">LinearRegression</label><div class=\"sk-toggleable__content\"><pre>LinearRegression()</pre></div></div></div></div></div>"
            ]
          },
          "metadata": {},
          "execution_count": 118
        }
      ]
    },
    {
      "cell_type": "code",
      "source": [
        "from sklearn.metrics import mean_squared_error\n",
        "#Modeli değerlendirmek için test verilerini kullanabilirsiniz. Örneğin, MSE (Mean Squared Error) kullanarak:\n",
        "y_pred = model.predict(X_test)\n",
        "mse = mean_squared_error(y_test, y_pred)\n",
        "print(f'MSE: {mse}')\n"
      ],
      "metadata": {
        "colab": {
          "base_uri": "https://localhost:8080/"
        },
        "id": "XQEfbYfM4uqK",
        "outputId": "8d574e82-8b4a-4e4f-fedb-3f43694485a2"
      },
      "execution_count": 122,
      "outputs": [
        {
          "output_type": "stream",
          "name": "stdout",
          "text": [
            "MSE: 7.938811288817166e+17\n"
          ]
        }
      ]
    }
  ]
}